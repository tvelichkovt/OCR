{
 "cells": [
  {
   "cell_type": "code",
   "execution_count": 16,
   "metadata": {},
   "outputs": [
    {
     "name": "stdout",
     "output_type": "stream",
     "text": [
      "Page # 0 - b'COS 511: Theoretical Machine Learning\\n\\nLecturer: Rob Schapire Lecture #1\\nScribe: Rob Schapire February 4, 2008\\n\\n1 What is Machine Learning?\\n\\nMachine learning studies computer algorithms for learning to do stuff. We might, for\\ninstance, be interested in learning to complete a task, or to make accurate predictions,\\nor to behave intelligently. The learning that is being done is always based on some sort\\nof observations or data, such as examples (the most common case in this course), direct\\nexperience, or instruction. So in general, machine learning is about learning to do better in\\nthe future based on what was experienced in the past.\\n\\nThe emphasis of machine learning is on automatic methods. In other words, the goal is\\nto devise learning algorithms that do the learning automatically without human intervention\\nor assistance. The machine learning paradigm can be viewed as \\xe2\\x80\\x9cprogramming by example.\\xe2\\x80\\x9d\\nOften we have a specific task in mind, such as spam filtering. But rather than program\\nthe computer to solve the task directly, in machine learning, we seek methods by which the\\ncomputer will come up with its own program based on examples that we provide.\\n\\nMachine learning is a core subarea of artificial intelligence. It is very unlikely that we\\nwill be able to build any kind of intelligent system capable of any of the facilities that we\\nassociate with intelligence, such as language or vision, without using learning to get there.\\nThese tasks are otherwise simply too difficult to solve. Further, we would not consider a\\nsystem to be truly intelligent if it were incapable of learning since learning is at the core of\\nintelligence.\\n\\nAlthough a subarea of AI, machine learning also intersects broadly with other fields,\\nespecially statistics, but also mathematics, physics, theoretical computer science and more.\\n\\n2 Examples of Machine Learning Problems\\n\\nThere are many examples of machine learning problems. Much of this course will focus on\\nclassification problems in which the goal is to categorize objects into a fixed set of categories.\\nHere are several examples:\\n\\noptical character recognition: categorize images of handwritten characters by the\\nletters represented\\n\\ne face detection: find faces in images (or indicate if a face is present)\\ne spam filtering: identify email messages as spam or non-spam\\n\\ne topic spotting: categorize news articles (say) as to whether they are about politics,\\nsports, entertainment, etc.\\n\\ne spoken language understanding: within the context of a limited domain, determine\\nthe meaning of something uttered by a speaker to the extent that it can be classified\\ninto one of a fixed set of categories'\n",
      "Page # 1 - b'e medical diagnosis: diagnose a patient as a sufferer or non-sufferer of some disease\\n\\ne customer segmentation: predict, for instance, which customers will respond to a par-\\nticular promotion\\n\\ne fraud detection: identify credit card transactions (for instance) which may be fraud-\\nulent in nature\\n\\ne weather prediction: predict, for instance, whether or not it will rain tomorrow\\n\\n(In this last case, we most likely would actually be more interested in estimating the prob-\\nability of rain tomorrow.)\\n\\nAlthough much of what we will talk about will be about classification problems, there\\nare other important learning problems. In classification, we want to categorize objects into\\nfixed categories. In regression, on the other hand, we are trying to predict a real value. For\\ninstance, we may wish to predict how much it will rain tomorrow. Or, we might want to\\npredict how much a house will sell for.\\n\\nA richer learning scenario is one in which the goal is actually to behave intelligently, or\\nto make intelligent decisions. For instance, a robot needs to learn to navigate through its\\nenvironment without colliding with anything. To use machine learning to make money on\\nthe stock market, we might treat investment as a classification problem (will the stock go\\nup or down) or a regression problem (how much will the stock go up), or, dispensing with\\nthese intermediate goals, we might want the computer to learn directly how to decide to\\nmake investments so as to maximize wealth. A final example is game playing where the\\ngoal is for the computer to learn to play well through experience.\\n\\n3 Goals of Machine Learning Research\\n\\nThe primary goal of machine learning research is to develop general purpose algorithms of\\npractical value. Such algorithms should be efficient. As usual, as computer scientists, we\\ncare about time and space efficiency. But in the context of learning, we also care a great\\ndeal about another precious resource, namely, the amount of data that is required by the\\nlearning algorithm.\\n\\nLearning algorithms should also be as general purpose as possible. We are looking for\\nalgorithms that can be easily applied to a broad class of learning problems, such as those\\nlisted above.\\n\\nOf primary importance, we want the result of learning to be a prediction rule that is as\\naccurate as possible in the predictions that it makes.\\n\\nOccasionally, we may also be interested in the interpretability of the prediction rules\\nproduced by learning. In other words, in some contexts (such as medical diagnosis), we want\\nthe computer to find prediction rules that are easily understandable by human experts.\\n\\nAs mentioned above, machine learning can be thought of as \\xe2\\x80\\x9cprogramming by example.\\xe2\\x80\\x9d\\nWhat is the advantage of machine learning over direct programming? First, the results of\\nusing machine learning are often more accurate than what can be created through direct\\nprogramming. The reason is that machine learning algorithms are data driven, and are able\\nto examine large amounts of data. On the other hand, a human expert is likely to be guided\\nby imprecise impressions or perhaps an examination of only a relatively small number of\\nexamples.'\n"
     ]
    }
   ],
   "source": [
    "import os\n",
    "from PIL import Image\n",
    "from pdf2image import convert_from_path\n",
    "import pytesseract\n",
    "\n",
    "filePath = 'pdf.pdf'\n",
    "doc = convert_from_path(filePath)\n",
    "path, fileName = os.path.split(filePath)\n",
    "fileBaseName, fileExtension = os.path.splitext(fileName)\n",
    "\n",
    "for page_number, page_data in enumerate(doc):\n",
    "    txt = pytesseract.image_to_string(page_data).encode(\"utf-8\")\n",
    "    print(\"Page # {} - {}\".format(str(page_number),txt))"
   ]
  }
 ],
 "metadata": {
  "kernelspec": {
   "display_name": "Python 3",
   "language": "python",
   "name": "python3"
  },
  "language_info": {
   "codemirror_mode": {
    "name": "ipython",
    "version": 3
   },
   "file_extension": ".py",
   "mimetype": "text/x-python",
   "name": "python",
   "nbconvert_exporter": "python",
   "pygments_lexer": "ipython3",
   "version": "3.7.6"
  },
  "varInspector": {
   "cols": {
    "lenName": 16,
    "lenType": 16,
    "lenVar": 40
   },
   "kernels_config": {
    "python": {
     "delete_cmd_postfix": "",
     "delete_cmd_prefix": "del ",
     "library": "var_list.py",
     "varRefreshCmd": "print(var_dic_list())"
    },
    "r": {
     "delete_cmd_postfix": ") ",
     "delete_cmd_prefix": "rm(",
     "library": "var_list.r",
     "varRefreshCmd": "cat(var_dic_list()) "
    }
   },
   "types_to_exclude": [
    "module",
    "function",
    "builtin_function_or_method",
    "instance",
    "_Feature"
   ],
   "window_display": false
  }
 },
 "nbformat": 4,
 "nbformat_minor": 4
}
