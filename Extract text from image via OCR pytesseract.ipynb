{
 "cells": [
  {
   "cell_type": "code",
   "execution_count": 7,
   "metadata": {},
   "outputs": [],
   "source": [
    "from PIL import Image\n",
    "img = Image.open('image.jpg')\n",
    "img.show()"
   ]
  },
  {
   "cell_type": "code",
   "execution_count": 8,
   "metadata": {},
   "outputs": [
    {
     "data": {
      "text/plain": [
       "\"Today's Web-enabled deluge of electronic data calls for automated methods of data analysis. Machine learning\\nprovides these, developing methods that can automatically detect patterns in data and then use the uncovered\\npatterns to predict future data. This textbook offers a comprehensive and self-contained introduction to the field\\nof machine learning, based on a unified, probabilistic approach.\\n\\nThe coverage combines breadth and depth, offering necessary background material on such topics as\\nprobability, optimization, and linear algebra as well as discussion of recent developments in the field, including\\nconditional random fields, L1 regularization, and deep learning. The book is written in an informal, accessible\\nstyle, complete with pseudo-code for the most important algorithms. All topics are copiously illustrated with color\\nimages and worked examples drawn from such application domains as biology, text processing, computer\\nvision, and robotics. Rather than providing a cookbook of different heuristic methods, the book stresses a\\nprincipled model-based approach, often using the language of graphical models to specify models in a concise\\nand intuitive way. Almost all the models described have been implemented in a MATLAB software\\npackage—PMTK (probabilistic modeling toolkit)—that is freely available online. The book is suitable for upper-\\nlevel undergraduates with an introductory-level college math background and beginning graduate students.\""
      ]
     },
     "execution_count": 8,
     "metadata": {},
     "output_type": "execute_result"
    }
   ],
   "source": [
    "import cv2 \n",
    "import pytesseract\n",
    "\n",
    "img = cv2.imread('image.jpg')\n",
    "\n",
    "# Adding custom options\n",
    "custom_config = r'--oem 3 --psm 6'\n",
    "pytesseract.image_to_string(img, config=custom_config)"
   ]
  }
 ],
 "metadata": {
  "kernelspec": {
   "display_name": "Python 3",
   "language": "python",
   "name": "python3"
  },
  "language_info": {
   "codemirror_mode": {
    "name": "ipython",
    "version": 3
   },
   "file_extension": ".py",
   "mimetype": "text/x-python",
   "name": "python",
   "nbconvert_exporter": "python",
   "pygments_lexer": "ipython3",
   "version": "3.7.6"
  },
  "varInspector": {
   "cols": {
    "lenName": 16,
    "lenType": 16,
    "lenVar": 40
   },
   "kernels_config": {
    "python": {
     "delete_cmd_postfix": "",
     "delete_cmd_prefix": "del ",
     "library": "var_list.py",
     "varRefreshCmd": "print(var_dic_list())"
    },
    "r": {
     "delete_cmd_postfix": ") ",
     "delete_cmd_prefix": "rm(",
     "library": "var_list.r",
     "varRefreshCmd": "cat(var_dic_list()) "
    }
   },
   "types_to_exclude": [
    "module",
    "function",
    "builtin_function_or_method",
    "instance",
    "_Feature"
   ],
   "window_display": false
  }
 },
 "nbformat": 4,
 "nbformat_minor": 4
}
